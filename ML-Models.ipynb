{
 "cells": [
  {
   "cell_type": "markdown",
   "id": "7236e727-51bc-4d8b-9e80-8b93b8850478",
   "metadata": {},
   "source": [
    "## Machine Learning Models\n",
    "\n",
    "- Logistic Regression\n",
    "- Gradient Boosting\n",
    "- Random Forest\n",
    "- Decision tree"
   ]
  },
  {
   "cell_type": "code",
   "execution_count": 1,
   "id": "6d73db9d-f7bd-4db2-9419-e0ea6c5f1de6",
   "metadata": {},
   "outputs": [],
   "source": [
    "import numpy as np\n",
    "import pandas as pd\n",
    "import seaborn as sb\n",
    "import matplotlib.pyplot as plt "
   ]
  },
  {
   "cell_type": "code",
   "execution_count": 2,
   "id": "42cafaa8-8061-4048-b344-60b0e7aa0d82",
   "metadata": {},
   "outputs": [],
   "source": [
    "heart=pd.read_csv('cleaned-heart.csv')"
   ]
  },
  {
   "cell_type": "markdown",
   "id": "f4c658e2-ffb1-4f1a-8ad5-514189531261",
   "metadata": {},
   "source": [
    "## Preprocessing the data, splitting into train and test set"
   ]
  },
  {
   "cell_type": "code",
   "execution_count": 3,
   "id": "d187bad6-9a9e-4937-8e8d-4c8465251aa7",
   "metadata": {},
   "outputs": [],
   "source": [
    "import pandas as pd\n",
    "import numpy as np\n",
    "from sklearn.model_selection import train_test_split\n",
    "from sklearn.preprocessing import StandardScaler, OneHotEncoder\n",
    "from sklearn.compose import ColumnTransformer\n",
    "from sklearn.pipeline import Pipeline\n",
    "from sklearn.metrics import classification_report, confusion_matrix\n",
    "\n",
    "\n",
    "# Replace infinite values and handle NaNs\n",
    "heart.replace([np.inf, -np.inf], np.nan, inplace=True)\n",
    "heart.fillna(heart.mean(numeric_only=True), inplace=True)  # Numeric columns\n",
    "for column in heart.select_dtypes(include='object').columns:\n",
    "    heart[column].fillna(heart[column].mode()[0], inplace=True)  # Categorical columns\n",
    "\n",
    "# Split the features and target\n",
    "X = heart.drop('HaveCardiovascularDisease', axis=1)\n",
    "y = heart['HaveCardiovascularDisease']\n",
    "\n",
    "# Split the data into training and testing sets\n",
    "X_train, X_test, y_train, y_test = train_test_split(X, y, test_size=0.2, random_state=42)\n",
    "\n",
    "# Define preprocessing for numeric and categorical data\n",
    "numeric_features = X.select_dtypes(include=['int64', 'float64']).columns\n",
    "categorical_features = X.select_dtypes(include=['object']).columns\n",
    "\n",
    "preprocessor = ColumnTransformer(\n",
    "    transformers=[\n",
    "        ('num', StandardScaler(), numeric_features),\n",
    "        ('cat', OneHotEncoder(handle_unknown='ignore'), categorical_features),\n",
    "    ])\n"
   ]
  },
  {
   "cell_type": "markdown",
   "id": "12fe21a1-6ef6-4673-b4d1-ee3d9c59f799",
   "metadata": {},
   "source": [
    "## Logistic Regression"
   ]
  },
  {
   "cell_type": "code",
   "execution_count": 4,
   "id": "85ba3d80-63c3-4b1a-8a81-c8c82872befb",
   "metadata": {},
   "outputs": [
    {
     "name": "stdout",
     "output_type": "stream",
     "text": [
      "Logistic Regression Classification Report:\n",
      "              precision    recall  f1-score   support\n",
      "\n",
      "          No       0.92      0.99      0.95     72277\n",
      "         Yes       0.54      0.11      0.18      7368\n",
      "\n",
      "    accuracy                           0.91     79645\n",
      "   macro avg       0.73      0.55      0.57     79645\n",
      "weighted avg       0.88      0.91      0.88     79645\n",
      "\n",
      "Confusion Matrix: [[71601   676]\n",
      " [ 6559   809]]\n",
      "TN=71601, FP=676, FN=6559, TP=809\n",
      "False Negative Rate (FNR): 0.89\n",
      "False Positive Rate (FPR): 0.01\n",
      "True Positive Rate (TPR): 0.11\n",
      "True Negative Rate (TNR): 0.99\n"
     ]
    }
   ],
   "source": [
    "from sklearn.linear_model import LogisticRegression\n",
    "from sklearn.pipeline import Pipeline\n",
    "from sklearn.metrics import classification_report, confusion_matrix\n",
    "import numpy as np\n",
    "\n",
    "# Assuming the 'preprocessor' and data splits (X_train, X_test, y_train, y_test) are already defined\n",
    "\n",
    "# Create the Logistic Regression pipeline\n",
    "logistic_pipeline = Pipeline([\n",
    "    ('preprocessor', preprocessor),\n",
    "    ('classifier', LogisticRegression(solver='saga', max_iter=1000))\n",
    "])\n",
    "\n",
    "# Train the model\n",
    "logistic_pipeline.fit(X_train, y_train)\n",
    "\n",
    "# Predict and evaluate\n",
    "logistic_predictions = logistic_pipeline.predict(X_test)\n",
    "print(\"Logistic Regression Classification Report:\")\n",
    "print(classification_report(y_test, logistic_predictions))\n",
    "\n",
    "# Dynamically extract labels from y_test to avoid confusion matrix errors\n",
    "labels = np.unique(y_test)\n",
    "cm = confusion_matrix(y_test, logistic_predictions, labels=labels)\n",
    "\n",
    "# Print the confusion matrix and calculate detailed metrics\n",
    "print(\"Confusion Matrix:\", cm)\n",
    "tn, fp, fn, tp = cm.ravel() if cm.size == 4 else (cm[0,0], cm[0,1], cm[1,0], cm[1,1])\n",
    "print(f\"TN={tn}, FP={fp}, FN={fn}, TP={tp}\")\n",
    "print(f\"False Negative Rate (FNR): {fn / (fn + tp):.2f}\")\n",
    "print(f\"False Positive Rate (FPR): {fp / (fp + tn):.2f}\")\n",
    "print(f\"True Positive Rate (TPR): {tp / (tp + fn):.2f}\")\n",
    "print(f\"True Negative Rate (TNR): {tn / (tn + fp):.2f}\")\n"
   ]
  },
  {
   "cell_type": "markdown",
   "id": "b1827e3b-084b-4bb3-a7b4-5b9df69539a0",
   "metadata": {},
   "source": [
    "This code creates a logistic regression model using a scikit-learn pipeline, trains it on a dataset, makes predictions on a test set, and evaluates the performance of the model. The code performs the following tasks:\n",
    "\n",
    "1. **Creating a Pipeline**: It sets up a pipeline comprising a preprocessing step ('preprocessor') and a classification step ('classifier') using the Logistic Regression model with the SAGA solver and a high maximum iteration count (1000) to ensure convergence.\n",
    "\n",
    "2. **Training the Model**: It trains the logistic regression model using the training dataset (X_train, y_train).\n",
    "\n",
    "3. **Making Predictions**: After training, it uses the model to predict the outcomes on the test dataset (X_test).\n",
    "\n",
    "4. **Evaluating the Model**: It evaluates the model's performance by printing a classification report that includes precision, recall, and F1-scores for each output class, providing an overall accuracy and other aggregated scores.\n",
    "\n",
    "5. **Confusion Matrix**: The code dynamically extracts labels from the test set labels (y_test) to ensure that the confusion matrix properly accounts for all labels. It then computes and prints the confusion matrix displaying True Negatives (TN), False Positives (FP), False Negatives (FN), and True Positives (TP).\n",
    "\n",
    "6. **Calculating Performance Metrics**: It calculates and prints detailed performance metrics, including False Negative Rate (FNR), False Positive Rate (FPR), True Positive Rate (TPR), and True Negative Rate (TNR) based on the elements of the confusion matrix.\n",
    "\n",
    "The purpose of this code is to demonstrate end-to-end model training, prediction, and evaluation phases in a supervised learning task, specifically for classification using logistic regression."
   ]
  },
  {
   "cell_type": "markdown",
   "id": "4a1330a5-d8bb-47fd-8159-ab915f471e0d",
   "metadata": {},
   "source": [
    "## Gradient Boosting"
   ]
  },
  {
   "cell_type": "code",
   "execution_count": 5,
   "id": "59bf3859-f461-4113-be8d-06ea76cab74a",
   "metadata": {},
   "outputs": [
    {
     "name": "stdout",
     "output_type": "stream",
     "text": [
      "Gradient Boosting Classification Report:\n",
      "              precision    recall  f1-score   support\n",
      "\n",
      "          No       0.92      0.99      0.95     72277\n",
      "         Yes       0.54      0.11      0.18      7368\n",
      "\n",
      "    accuracy                           0.91     79645\n",
      "   macro avg       0.73      0.55      0.57     79645\n",
      "weighted avg       0.88      0.91      0.88     79645\n",
      "\n",
      "Confusion Matrix: [[71592   685]\n",
      " [ 6555   813]]\n",
      "TN=71592, FP=685, FN=6555, TP=813\n",
      "False Negative Rate (FNR): 0.89\n",
      "False Positive Rate (FPR): 0.01\n",
      "True Positive Rate (TPR): 0.11\n",
      "True Negative Rate (TNR): 0.99\n"
     ]
    }
   ],
   "source": [
    "from sklearn.ensemble import GradientBoostingClassifier\n",
    "from sklearn.pipeline import Pipeline\n",
    "from sklearn.metrics import classification_report, confusion_matrix\n",
    "import numpy as np\n",
    "\n",
    "# Assuming the 'preprocessor' and data splits (X_train, X_test, y_train, y_test) are already defined\n",
    "\n",
    "# Create the Gradient Boosting pipeline\n",
    "gb_pipeline = Pipeline([\n",
    "    ('preprocessor', preprocessor),\n",
    "    ('classifier', GradientBoostingClassifier(n_estimators=100, learning_rate=1.0, max_depth=1, random_state=42))\n",
    "])\n",
    "\n",
    "# Train the model\n",
    "gb_pipeline.fit(X_train, y_train)\n",
    "\n",
    "# Predict and evaluate\n",
    "gb_predictions = gb_pipeline.predict(X_test)\n",
    "print(\"Gradient Boosting Classification Report:\")\n",
    "print(classification_report(y_test, gb_predictions))\n",
    "\n",
    "# Confusion Matrix handling\n",
    "labels = np.unique(y_test)\n",
    "cm = confusion_matrix(y_test, gb_predictions, labels=labels)\n",
    "print(\"Confusion Matrix:\", cm)\n",
    "tn, fp, fn, tp = cm.ravel() if cm.size == 4 else (cm[0,0], cm[0,1], cm[1,0], cm[1,1])\n",
    "print(f\"TN={tn}, FP={fp}, FN={fn}, TP={tp}\")\n",
    "print(f\"False Negative Rate (FNR): {fn / (fn + tp):.2f}\")\n",
    "print(f\"False Positive Rate (FPR): {fp / (fp + tn):.2f}\")\n",
    "print(f\"True Positive Rate (TPR): {tp / (tp + fn):.2f}\")\n",
    "print(f\"True Negative Rate (TNR): {tn / (tn + fp):.2f}\")"
   ]
  },
  {
   "cell_type": "markdown",
   "id": "f3b70af1-fd65-4fe6-ad69-11a70605fd19",
   "metadata": {},
   "source": [
    "This code creates and evaluates a Gradient Boosting Classifier model for classification tasks using a predefined data preprocessing pipeline and data that has been split into training and testing sets. The steps are as follows:\n",
    "\n",
    "1. **Import necessary libraries** - It imports the GradientBoostingClassifier for creating the model, Pipeline for combining preprocessing and model training steps into a single process, and other necessary utilities for evaluation.\n",
    "\n",
    "2. **Setup a Gradient Boosting pipeline** - A pipeline named `gb_pipeline` is established, incorporating both a preprocessing step (assumed pre-defined as `preprocessor`) and the classifier definition itself. The classifier is set up with a specific number of estimators (`n_estimators=100`), learning rate (`learning_rate=1.0`), maximum depth of the individual regression estimators (`max_depth=1`), and a random state for reproducibility.\n",
    "\n",
    "3. **Train the Model** - The pipeline, encompassing preprocessing and the Gradient Boosting Classifier, is then trained using the training set (`X_train` and `y_train`).\n",
    "\n",
    "4. **Make Predictions and Evaluate** - After training, predictions are made on the test set (`X_test`). A classification report is generated providing precision, recall, and f1-score for each class (presumably 'Yes' and 'No' or similar binary outcomes), as well as overall accuracy. The class labels used in `y_test` are dynamically identified and utilized in the confusion matrix calculation, which breaks down true negatives (TN), false positives (FP), false negatives (FN), and true positives (TP). From the confusion matrix, detailed metrics such as False Negative Rate (FNR), False Positive Rate (FPR), True Positive Rate (TPR), and True Negative Rate (TNR) are calculated and printed to provide deeper insights into the model performance.\n",
    "\n",
    "The code demonstrates a thorough approach to applying a machine learning model using sklearn's pipeline feature, enabling streamlined preprocessing and model evaluation, particularly useful in classification tasks where understanding different aspects of model performance (beyond just accuracy) is critical."
   ]
  },
  {
   "cell_type": "markdown",
   "id": "94ba5cc1-aee7-4d42-94b3-b7e9bbf5886a",
   "metadata": {},
   "source": [
    "## Random Forest"
   ]
  },
  {
   "cell_type": "code",
   "execution_count": 6,
   "id": "3680d914-b0ed-49fb-bc5a-6772362c287f",
   "metadata": {},
   "outputs": [
    {
     "name": "stdout",
     "output_type": "stream",
     "text": [
      "Random Forest Classification Report:\n",
      "\n",
      "              precision    recall  f1-score   support\n",
      "\n",
      "          No       0.91      0.99      0.95     72277\n",
      "         Yes       0.50      0.06      0.11      7368\n",
      "\n",
      "    accuracy                           0.91     79645\n",
      "   macro avg       0.71      0.53      0.53     79645\n",
      "weighted avg       0.87      0.91      0.87     79645\n",
      "\n"
     ]
    },
    {
     "data": {
      "image/png": "[encoded data removed]",
      "text/plain": [
       "<Figure size 1000x700 with 2 Axes>"
      ]
     },
     "metadata": {},
     "output_type": "display_data"
    }
   ],
   "source": [
    "from sklearn.ensemble import RandomForestClassifier\n",
    "from sklearn.pipeline import Pipeline\n",
    "import seaborn as sns\n",
    "import matplotlib.pyplot as plt\n",
    "from sklearn.metrics import classification_report, confusion_matrix\n",
    "\n",
    "# Reduce the number of estimators to speed up training\n",
    "# Use n_jobs=-1 to use all available CPU cores\n",
    "rf_pipeline = Pipeline([\n",
    "    ('preprocessor', preprocessor),\n",
    "    ('classifier', RandomForestClassifier(n_estimators=50, random_state=42, n_jobs=-1))\n",
    "])\n",
    "\n",
    "# Train the model\n",
    "rf_pipeline.fit(X_train, y_train)\n",
    "\n",
    "# Predict and evaluate\n",
    "rf_predictions = rf_pipeline.predict(X_test)\n",
    "print(\"Random Forest Classification Report:\\n\")\n",
    "print(classification_report(y_test, rf_predictions))\n",
    "\n",
    "rf_cm = confusion_matrix(y_test, rf_predictions)\n",
    "plt.figure(figsize=(10, 7))\n",
    "sns.heatmap(rf_cm, annot=True, fmt=\"d\", cmap='Blues', xticklabels=['Predicted No', 'Predicted Yes'], yticklabels=['Actual No', 'Actual Yes'])\n",
    "plt.title('Random Forest Confusion Matrix')\n",
    "plt.ylabel('Actual label')\n",
    "plt.xlabel('Predicted label')\n",
    "plt.show()"
   ]
  },
  {
   "cell_type": "markdown",
   "id": "db06ebfa-2167-48cc-bc0d-4bc94bdeb30c",
   "metadata": {},
   "source": [
    "This code creates and trains a Random Forest classifier to predict outcomes based on a set of features and evaluates the model's performance on a test dataset. It performs the following steps:\n",
    "\n",
    "1. **Import Libraries**: Includes necessary tools from sklearn for building a Random Forest model and Pipelines, as well as seaborn and matplotlib for visualization.\n",
    "\n",
    "2. **Create a Pipeline**: It constructs a machine learning pipeline that applies preprocessing (contained in the variable `preprocessor`, not shown in the snippet) and then fits a Random Forest classifier. The classifier is configured with 50 trees (`n_estimators=50`) to balance between performance and computational efficiency, a fixed `random_state` for reproducibility of results, and `n_jobs=-1` to utilize all available CPU cores for faster training.\n",
    "\n",
    "3. **Train the Model**: Uses the pipeline to fit the model on a training dataset (`X_train`, `y_train`).\n",
    "\n",
    "4. **Model Prediction and Evaluation**: \n",
    "   - It makes predictions on the test dataset (`X_test`) and prints a classification report that includes metrics such as precision, recall, and F1-score, providing insights into the model's performance across different classes (e.g., 'Yes', 'No').\n",
    "   - Uses the `confusion_matrix` function to compute the confusion matrix between the true labels (`y_test`) and predictions (`rf_predictions`), facilitating the evaluation of how well the model predicts each class.\n",
    "\n",
    "5. **Visualize Confusion Matrix**: Generates a heatmap visualization of the confusion matrix using seaborn (with `sns.heatmap`) to visually represent the model's performance. The heatmap shows the number of true positives, true negatives, false positives, and false negatives, with labels for actual and predicted classes. The visualization is enhanced with a specific figure size, color map ('Blues'), and custom axis labels to improve readability.\n",
    "\n",
    "Overall, the purpose of this code is to leverage a Random Forest Classifier for predictive analysis, assess the model's accuracy and error types through various performance metrics, and visually represent the results to offer clear insights into the model's behavior."
   ]
  },
  {
   "cell_type": "code",
   "execution_count": 7,
   "id": "d77eda8f-d285-47a7-af74-6bc98e974320",
   "metadata": {},
   "outputs": [
    {
     "name": "stdout",
     "output_type": "stream",
     "text": [
      "Classification Accuracy: 0.91\n",
      "True Positive Rate (TPR): 0.06\n",
      "True Negative Rate (TNR): 0.99\n",
      "False Negative Rate (FNR): 0.94\n",
      "False Positive Rate (FPR): 0.01\n"
     ]
    }
   ],
   "source": [
    "# Assuming model predictions and true labels are stored in variables 'rf_predictions' and 'y_test' respectively\n",
    "from sklearn.metrics import accuracy_score, confusion_matrix\n",
    "\n",
    "# Substitute 'y_true' with 'y_test' to match common variable names for true labels\n",
    "accuracy = accuracy_score(y_test, rf_predictions)\n",
    "print(f\"Classification Accuracy: {accuracy:.2f}\")\n",
    "\n",
    "cm = confusion_matrix(y_test, rf_predictions)\n",
    "TP = cm[1, 1]  # True Positives: Y predicted as Y\n",
    "TN = cm[0, 0]  # True Negatives: N predicted as N\n",
    "FP = cm[0, 1]  # False Positives: N predicted as Y\n",
    "FN = cm[1, 0]  # False Negatives: Y predicted as N\n",
    "\n",
    "TPR = TP / (TP + FN)  # True Positive Rate = TP / (TP + FN)\n",
    "TNR = TN / (TN + FP)  # True Negative Rate = TN / (TN + FP)\n",
    "FNR = FN / (FN + TP)  # False Negative Rate = FN / (TP + FN)\n",
    "FPR = FP / (FP + TN)  # False Positive Rate = FP / (TN + FP)\n",
    "\n",
    "print(f\"True Positive Rate (TPR): {TPR:.2f}\")\n",
    "print(f\"True Negative Rate (TNR): {TNR:.2f}\")\n",
    "print(f\"False Negative Rate (FNR): {FNR:.2f}\")\n",
    "print(f\"False Positive Rate (FPR): {FPR:.2f}\")"
   ]
  },
  {
   "cell_type": "markdown",
   "id": "192e681a-6fa3-4212-ac87-716c64158817",
   "metadata": {},
   "source": [
    "## Decision Tree"
   ]
  },
  {
   "cell_type": "code",
   "execution_count": 8,
   "id": "cf3cafe3-7c3f-4ea7-baea-2ea4fcd5b7af",
   "metadata": {},
   "outputs": [
    {
     "name": "stdout",
     "output_type": "stream",
     "text": [
      "Confusion Matrix:\n",
      "[[66364  5913]\n",
      " [ 5627  1741]]\n",
      "\n",
      "Classification Report:\n",
      "              precision    recall  f1-score   support\n",
      "\n",
      "          No       0.92      0.92      0.92     72277\n",
      "         Yes       0.23      0.24      0.23      7368\n",
      "\n",
      "    accuracy                           0.86     79645\n",
      "   macro avg       0.57      0.58      0.58     79645\n",
      "weighted avg       0.86      0.86      0.86     79645\n",
      "\n",
      "\n",
      "Accuracy: 0.86\n",
      "True Positive Rate (Sensitivity): 0.24\n",
      "True Negative Rate (Specificity): 0.92\n",
      "False Positive Rate: 0.08\n",
      "False Negative Rate: 0.76\n"
     ]
    }
   ],
   "source": [
    "from sklearn.metrics import accuracy_score\n",
    "from sklearn.tree import DecisionTreeClassifier\n",
    "\n",
    "# Define the pipeline\n",
    "pipeline = Pipeline([\n",
    "    ('preprocessor', preprocessor),  # Preprocessing\n",
    "    ('classifier', DecisionTreeClassifier(random_state=42))  # Decision tree classifier\n",
    "])\n",
    "\n",
    "# Train the model\n",
    "pipeline.fit(X_train, y_train)\n",
    "\n",
    "# Make predictions\n",
    "y_pred = pipeline.predict(X_test)\n",
    "\n",
    "# Evaluate the model\n",
    "cm = confusion_matrix(y_test, y_pred)\n",
    "accuracy = accuracy_score(y_test, y_pred)\n",
    "TP = cm[1, 1]  # True Positives: Y predicted as Y\n",
    "TN = cm[0, 0]  # True Negatives: N predicted as N\n",
    "FP = cm[0, 1]  # False Positives: N predicted as Y\n",
    "FN = cm[1, 0]  # False Negatives: Y predicted as N\n",
    "\n",
    "TPR = TP / (TP + FN)  # True Positive Rate = TP / (TP + FN)\n",
    "TNR = TN / (TN + FP)  # True Negative Rate = TN / (TN + FP)\n",
    "FNR = FN / (FN + TP)  # False Negative Rate = FN / (TP + FN)\n",
    "FPR = FP / (FP + TN)  # False Positive Rate = FP / (TN + FP)\n",
    "\n",
    "print(\"Confusion Matrix:\")\n",
    "print(cm)\n",
    "print(\"\\nClassification Report:\")\n",
    "print(classification_report(y_test, y_pred))\n",
    "print(f\"\\nAccuracy: {accuracy:.2f}\")\n",
    "print(f\"True Positive Rate (Sensitivity): {TPR:.2f}\")\n",
    "print(f\"True Negative Rate (Specificity): {TNR:.2f}\")\n",
    "print(f\"False Positive Rate: {FPR:.2f}\")\n",
    "print(f\"False Negative Rate: {FNR:.2f}\")"
   ]
  },
  {
   "cell_type": "markdown",
   "id": "1a59c2be-461e-42d9-b1ec-a42f7bc617c8",
   "metadata": {},
   "source": [
    "This code defines, trains, and evaluates a Decision Tree Classifier using a scikit-learn pipeline. The steps involved are as follows:\n",
    "\n",
    "1. **Initialization of the Pipeline**: It sets up a pipeline with two stages: preprocessing (with an object named `preprocessor`), and a decision tree classifier with a specified `random_state` for reproducibility.\n",
    "\n",
    "2. **Model Training**: The pipeline, including both the preprocessing and the decision tree classifier, is trained on the training dataset `X_train` with the corresponding labels `y_train`.\n",
    "\n",
    "3. **Making Predictions**: Once trained, the model is used to predict outcomes on the test dataset `X_test`.\n",
    "\n",
    "4. **Model Evaluation**: \n",
    "   - A confusion matrix (`cm`) is computed for the predictions against the true labels `y_test`, from which True Positives (TP), True Negatives (TN), False Positives (FP), and False Negatives (FN) are extracted.\n",
    "   - Several performance metrics are calculated including:\n",
    "     - **True Positive Rate (Sensitivity)**: The proportion of positive cases correctly identified.\n",
    "     - **True Negative Rate (Specificity)**: The proportion of negative cases accurately identified.\n",
    "     - **False Positive Rate**: The proportion of negative cases incorrectly classified as positive.\n",
    "     - **False Negative Rate**: The proportion of positive cases incorrectly classified as negative.\n",
    "   - The accuracy of the model is calculated and printed alongside the confusion matrix and a classification report that includes precision, recall, and F1-scores for each class together with overall accuracy and weighted averages of these metrics.\n",
    "\n",
    "Overall, the code demonstrates the steps to prepare, apply, and assess the performance of a decision tree model for classification tasks using a dataset split into training and testing sets."
   ]
  },
  {
   "cell_type": "code",
   "execution_count": 13,
   "id": "ebacc7e9-90cb-4661-a600-e2b1a9fbf4b9",
   "metadata": {},
   "outputs": [
    {
     "ename": "AttributeError",
     "evalue": "'OneHotEncoder' object has no attribute 'get_feature_names'",
     "output_type": "error",
     "traceback": [
      "\u001b[1;31m---------------------------------------------------------------------------\u001b[0m",
      "\u001b[1;31mAttributeError\u001b[0m                            Traceback (most recent call last)",
      "Cell \u001b[1;32mIn[13], line 28\u001b[0m\n\u001b[0;32m     25\u001b[0m pipeline\u001b[38;5;241m.\u001b[39mfit(X_train, y_train)\n\u001b[0;32m     27\u001b[0m \u001b[38;5;66;03m# Preparing feature names correctly for visualization\u001b[39;00m\n\u001b[1;32m---> 28\u001b[0m active_features \u001b[38;5;241m=\u001b[39m pipeline\u001b[38;5;241m.\u001b[39mnamed_steps[\u001b[38;5;124m'\u001b[39m\u001b[38;5;124mpreprocessor\u001b[39m\u001b[38;5;124m'\u001b[39m]\u001b[38;5;241m.\u001b[39mtransformers_[\u001b[38;5;241m0\u001b[39m][\u001b[38;5;241m1\u001b[39m]\u001b[38;5;241m.\u001b[39mget_feature_names(categorical_features)\n\u001b[0;32m     29\u001b[0m all_features \u001b[38;5;241m=\u001b[39m \u001b[38;5;28mlist\u001b[39m(active_features) \u001b[38;5;241m+\u001b[39m \u001b[38;5;28mlist\u001b[39m(X_train\u001b[38;5;241m.\u001b[39mselect_dtypes(exclude\u001b[38;5;241m=\u001b[39m[\u001b[38;5;124m'\u001b[39m\u001b[38;5;124mobject\u001b[39m\u001b[38;5;124m'\u001b[39m, \u001b[38;5;124m'\u001b[39m\u001b[38;5;124mcategory\u001b[39m\u001b[38;5;124m'\u001b[39m])\u001b[38;5;241m.\u001b[39mcolumns)\n\u001b[0;32m     31\u001b[0m f \u001b[38;5;241m=\u001b[39m plt\u001b[38;5;241m.\u001b[39mfigure(figsize\u001b[38;5;241m=\u001b[39m(\u001b[38;5;241m24\u001b[39m,\u001b[38;5;241m12\u001b[39m))\n",
      "\u001b[1;31mAttributeError\u001b[0m: 'OneHotEncoder' object has no attribute 'get_feature_names'"
     ]
    }
   ],
   "source": [
    "# Considering the primary issue is related to fitting the model with categorical string data,\n",
    "# the provided code lacks the preprocessing step to encode or handle categorical features before fitting the model.\n",
    "# An appropriate fix would incorporate preprocessing to convert categorical data to numerical format.\n",
    "\n",
    "from sklearn.compose import ColumnTransformer\n",
    "from sklearn.preprocessing import OneHotEncoder\n",
    "from sklearn.tree import DecisionTreeClassifier\n",
    "from sklearn.pipeline import Pipeline\n",
    "from sklearn.metrics import confusion_matrix\n",
    "import seaborn as sb\n",
    "import matplotlib.pyplot as plt\n",
    "from sklearn.tree import plot_tree\n",
    "\n",
    "# Assuming X_train, y_train, X_test, y_test are defined and ready to use\n",
    "# and assuming the 'State' column or similar categorical columns are causing the issue\n",
    "\n",
    "# Example of preprocessing to encode categorical variables first\n",
    "categorical_features = X_train.select_dtypes(include=['object', 'category']).columns\n",
    "preprocessor = ColumnTransformer(transformers=[('cat', OneHotEncoder(handle_unknown='ignore'), categorical_features)], remainder='passthrough')\n",
    "\n",
    "# Create a pipeline with the preprocessor and the classifier\n",
    "pipeline = Pipeline(steps=[('preprocessor', preprocessor),\n",
    "                           ('classifier', DecisionTreeClassifier(max_depth=3, random_state=42))])\n",
    "\n",
    "pipeline.fit(X_train, y_train)\n",
    "\n",
    "# Preparing feature names correctly for visualization\n",
    "active_features = pipeline.named_steps['preprocessor'].transformers_[0][1].get_feature_names(categorical_features)\n",
    "all_features = list(active_features) + list(X_train.select_dtypes(exclude=['object', 'category']).columns)\n",
    "\n",
    "f = plt.figure(figsize=(24,12))\n",
    "plot_tree(pipeline.named_steps['classifier'], filled=True, rounded=True, feature_names=all_features, class_names=[\"No Cardiovascular Disease\",\"Have Cardiovascular Disease\"], fontsize=10)\n",
    "\n",
    "y_train_pred = pipeline.predict(X_train)\n",
    "y_test_pred = pipeline.predict(X_test)\n",
    "\n",
    "f, axes = plt.subplots(1, 2, figsize=(12, 4))\n",
    "sb.heatmap(confusion_matrix(y_train, y_train_pred), annot=True, fmt=\".0f\", annot_kws={\"size\": 18}, ax=axes[0], xticklabels=[\"No Cardiovascular Disease\", \"Have Cardiovascular Disease\"], yticklabels=[\"Actual No Cardiovascular Disease\", \"Actual Have Cardiovascular Disease\"])\n",
    "axes[0].set_title('Train Set (Max Depth 3)')\n",
    "sb.heatmap(confusion_matrix(y_test, y_test_pred), annot=True, fmt=\".0f\", annot_kws={\"size\": 18}, ax=axes[1], xticklabels=[\"No Cardiovascular Disease\", \"Have Cardiovascular Disease\"], yticklabels=[\"Actual No Cardiovascular Disease\", \"Actual Have Cardiovascular Disease\"])\n",
    "axes[1].set_title('Test Set (Max Depth 3)')"
   ]
  },
  {
   "cell_type": "markdown",
   "id": "bbd6c293-5a9b-465d-9968-ed1d75c34e58",
   "metadata": {},
   "source": [
    "**Pipeline Creation**: The code creates a pipeline combining the preprocessing step (categorical data encoding) with a Decision Tree Classifier. The classifier is configured with a maximum depth of 3 to prevent overfitting, and a `random_state` for reproducible results.\n",
    "\n",
    "\n",
    "**Visualization and Evaluation**:\n",
    "   - A decision tree visualization displays how the model makes decisions based on the processed features, including both the originally numeric and newly encoded categorical features.\n",
    "   - The confusion matrix for both the training and test sets is visualized using heatmaps to show the distribution of true and predicted labels, offering insight into the model's performance, including its accuracy and possible biases towards certain classes."
   ]
  }
 ],
 "metadata": {
  "kernelspec": {
   "display_name": "Python 3 (ipykernel)",
   "language": "python",
   "name": "python3"
  },
  "language_info": {
   "codemirror_mode": {
    "name": "ipython",
    "version": 3
   },
   "file_extension": ".py",
   "mimetype": "text/x-python",
   "name": "python",
   "nbconvert_exporter": "python",
   "pygments_lexer": "ipython3",
   "version": "3.11.7"
  },
  "widgets": {
   "application/vnd.jupyter.widget-state+json": {
    "state": {},
    "version_major": 2,
    "version_minor": 0
   }
  }
 },
 "nbformat": 4,
 "nbformat_minor": 5
}
